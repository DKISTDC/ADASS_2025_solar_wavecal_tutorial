{
 "cells": [
  {
   "cell_type": "code",
   "execution_count": null,
   "id": "9fbcadd1-606b-4451-8a3d-f7cacba7872c",
   "metadata": {
    "scrolled": true
   },
   "outputs": [],
   "source": [
    "pip install solar-wavelength-calibration"
   ]
  },
  {
   "cell_type": "code",
   "execution_count": null,
   "id": "d5067d21-a853-4b36-9c90-e1d3673ffe4e",
   "metadata": {},
   "outputs": [],
   "source": [
    "from solar_wavelength_calibration import WavelengthCalibrationFitter, WavelengthCalibrationParameters\n",
    "import astropy.units as u\n",
    "import numpy as np\n",
    "import matplotlib.pyplot as plt\n",
    "from astropy.wcs import WCS"
   ]
  },
  {
   "cell_type": "markdown",
   "id": "44bfec9f-6a50-43a6-8cf9-ab60ef16afd4",
   "metadata": {},
   "source": [
    "## Basic Usage\n",
    "\n",
    "In this section, you'll explore how to use the `solar-wavelength-calibration` package. Try to fill in the missing code and answer questions about each step."
   ]
  },
  {
   "cell_type": "markdown",
   "id": "ba4cbd3d-5ba9-4d7a-93e3-ba0dc3eb8cbb",
   "metadata": {},
   "source": [
    "Define the spectrum to be fit and compute the expected wavelength vector:"
   ]
  },
  {
   "cell_type": "code",
   "execution_count": null,
   "id": "cd16e897-a9a0-4e28-8fba-b65ec53cea7a",
   "metadata": {},
   "outputs": [],
   "source": [
    "# TODO: Load the characteristic spectrum and the initial wavelength vector\n",
    "input_spectrum = np.load()\n",
    "\n",
    "input_wavelength_vector = np.load()"
   ]
  },
  {
   "cell_type": "markdown",
   "id": "84cccf7c-69ed-47e5-9d39-f7d3a4adedc7",
   "metadata": {},
   "source": [
    "Set up the model parameters (if you are implementing this into your pipeline, these values should be specific to your instrument):"
   ]
  },
  {
   "cell_type": "code",
   "execution_count": null,
   "id": "e0840716-377d-4837-8456-011f312459a0",
   "metadata": {},
   "outputs": [],
   "source": [
    "input_parameters = WavelengthCalibrationParameters(\n",
    "        crval=350.159 * u.nm,\n",
    "        dispersion=4.042 * u.nm/u.pix,\n",
    "        incident_light_angle=57.006 * u.deg,\n",
    "        resolving_power=42500,\n",
    "        opacity_factor=5.0,\n",
    "        straylight_fraction=0.2,\n",
    "        grating_constant=31600.0 * 1/u.m,\n",
    "        doppler_velocity=-0.428 * u.km/u.s,\n",
    "        order=52,\n",
    "    )\n"
   ]
  },
  {
   "cell_type": "markdown",
   "id": "c83102e6-4844-4ce4-aa99-fb9e964839c1",
   "metadata": {},
   "source": [
    "Take a look at the package documentation (https://bitbucket.org/dkistdc/solar-wavelength-calibration/src/main/?search_id=3c0636db-cb76-4242-ae9b-bc580f4e956c) and initialize the fitter and perform the fit:"
   ]
  },
  {
   "cell_type": "markdown",
   "id": "d8d639dc-2b1e-4ea4-8aa0-d167955c70ad",
   "metadata": {},
   "source": [
    "Initialize the wavelength calibration fitter:"
   ]
  },
  {
   "cell_type": "code",
   "execution_count": null,
   "id": "192ddfbf-99c1-462c-8d38-02540515f087",
   "metadata": {},
   "outputs": [],
   "source": [
    "# TODO: Complete the following code\n",
    "fitter = WavelengthCalibrationFitter(\n",
    "        input_parameters=input_parameters,\n",
    "    )"
   ]
  },
  {
   "cell_type": "markdown",
   "id": "b21c2689-2e47-468b-b61b-b64e22a58c1b",
   "metadata": {},
   "source": [
    "Perform the wavelength calibration fit:"
   ]
  },
  {
   "cell_type": "code",
   "execution_count": null,
   "id": "bf6fec37-ce49-4b50-b545-d78740d89bb3",
   "metadata": {},
   "outputs": [],
   "source": [
    "# TODO: Complete the following code\n",
    "fit_result = fitter(\n",
    "        input_wavelength_vector=input_wavelength_vector,\n",
    "        input_spectrum=input_spectrum,\n",
    "    )\n"
   ]
  },
  {
   "cell_type": "markdown",
   "id": "90e28cd2-47c3-4521-b2f2-3813eb98d0c7",
   "metadata": {},
   "source": [
    "Check out the results!"
   ]
  },
  {
   "cell_type": "code",
   "execution_count": null,
   "id": "98835c0b-247d-47ed-9305-719937abff30",
   "metadata": {},
   "outputs": [],
   "source": [
    "corrected_header = fit_result.wavelength_parameters.to_header(axis_num=1)\n",
    "# If you want, there is an arg to add alternate keys (FITS 'A' keys). Check out the documentation for how to do this!\n",
    "\n",
    "corrected_header"
   ]
  },
  {
   "cell_type": "code",
   "execution_count": null,
   "id": "0e51686a-710c-4c57-9e02-73f9e3ecd426",
   "metadata": {},
   "outputs": [],
   "source": [
    "corrected_wcs = WCS(corrected_header)\n",
    "\n",
    "number_of_wave_pix = np.size(input_spectrum)\n",
    "\n",
    "fitted_wave = (corrected_wcs.spectral.pixel_to_world(np.arange(number_of_wave_pix))).to_value(u.nm)\n",
    "\n",
    "aligned_solar_transmission = fit_result.minimizer_result.residual + input_spectrum\n",
    "\n",
    "fig, ax = plt.subplots(3, 1, figsize=(7, 6), height_ratios=[1, 0.4, 0.4], sharex=True)\n",
    "ax[0].plot(input_wavelength_vector, input_spectrum, label=\"Input Spectrum\")\n",
    "ax[0].plot(\n",
    "    fitted_wave,\n",
    "    aligned_solar_transmission,\n",
    "    label=\"Doppler-Shifted Solar Atlas\",\n",
    "    linestyle=\"-\",\n",
    "    color=\"k\",\n",
    "    alpha=0.3,\n",
    ")\n",
    "ax[0].plot(fitted_wave, input_spectrum, label=\"Corrected Spectrum\")\n",
    "ax[0].legend()\n",
    "ax[0].set_ylabel(\"Intensity\")\n",
    "residuals = fit_result.minimizer_result.residual\n",
    "ax[1].plot(fitted_wave, residuals, label=\"Residuals\")\n",
    "ax[1].legend()\n",
    "fig.suptitle(\"Corrected Spectrum vs Input Spectrum\")\n",
    "fig.tight_layout()\n",
    "plt.show()"
   ]
  },
  {
   "cell_type": "markdown",
   "id": "f2c78ba8-5cfa-4382-ac01-6f07ba12e7a5",
   "metadata": {},
   "source": [
    "## Advanced Usage"
   ]
  },
  {
   "cell_type": "markdown",
   "id": "0afd36ea-1bf7-4acf-b616-7e1e9c275d40",
   "metadata": {},
   "source": [
    "Using your own reference atlas"
   ]
  },
  {
   "cell_type": "code",
   "execution_count": null,
   "id": "2d124e27-9aad-4449-a0d1-51015d4e8b45",
   "metadata": {},
   "outputs": [],
   "source": []
  },
  {
   "cell_type": "markdown",
   "id": "d81b0c38-cd74-43cf-b2ab-eef5be11a09a",
   "metadata": {},
   "source": [
    "Smart CRVAL initial parameter estimation"
   ]
  },
  {
   "cell_type": "code",
   "execution_count": null,
   "id": "8e38b7d7-a9d9-4491-a2d5-c67aec2398a0",
   "metadata": {},
   "outputs": [],
   "source": []
  },
  {
   "cell_type": "markdown",
   "id": "7b3b369e-e808-4ceb-80a3-19d19ff82150",
   "metadata": {},
   "source": [
    "Setting bounds for the model"
   ]
  },
  {
   "cell_type": "code",
   "execution_count": null,
   "id": "3fd6e72e-de0f-4975-bb82-a97a575d99ee",
   "metadata": {},
   "outputs": [],
   "source": []
  },
  {
   "cell_type": "markdown",
   "id": "1cf1d474-7535-4dfd-a8d8-1f3733059252",
   "metadata": {},
   "source": [
    "Setting weights for the model"
   ]
  },
  {
   "cell_type": "code",
   "execution_count": null,
   "id": "2794913b-6367-472e-aa29-bd5f43f17ab2",
   "metadata": {},
   "outputs": [],
   "source": []
  },
  {
   "cell_type": "markdown",
   "id": "a927b2eb-1f11-43bf-8246-7e0b105eeae2",
   "metadata": {},
   "source": [
    "Changing the optimization method"
   ]
  },
  {
   "cell_type": "code",
   "execution_count": null,
   "id": "57aafda9-6a81-4c38-9bb1-4fa1ca5433f1",
   "metadata": {},
   "outputs": [],
   "source": []
  },
  {
   "cell_type": "markdown",
   "id": "3bb8156b-dcea-4481-b4cc-02f55cd1cb12",
   "metadata": {},
   "source": [
    "Freezing parameters"
   ]
  },
  {
   "cell_type": "code",
   "execution_count": null,
   "id": "bd85968f-fa6b-4782-81b6-698cfb294ebc",
   "metadata": {},
   "outputs": [],
   "source": []
  }
 ],
 "metadata": {
  "kernelspec": {
   "display_name": "Python 3 (ipykernel)",
   "language": "python",
   "name": "python3"
  },
  "language_info": {
   "codemirror_mode": {
    "name": "ipython",
    "version": 3
   },
   "file_extension": ".py",
   "mimetype": "text/x-python",
   "name": "python",
   "nbconvert_exporter": "python",
   "pygments_lexer": "ipython3",
   "version": "3.11.9"
  }
 },
 "nbformat": 4,
 "nbformat_minor": 5
}
