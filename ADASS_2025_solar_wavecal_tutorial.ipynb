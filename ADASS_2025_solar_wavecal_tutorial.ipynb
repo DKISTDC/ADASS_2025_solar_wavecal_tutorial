{
 "cells": [
  {
   "cell_type": "code",
   "execution_count": 1,
   "id": "9fbcadd1-606b-4451-8a3d-f7cacba7872c",
   "metadata": {
    "scrolled": true
   },
   "outputs": [
    {
     "name": "stdout",
     "output_type": "stream",
     "text": [
      "Collecting solar-wavelength-calibration\n",
      "  Using cached solar_wavelength_calibration-1.0-py3-none-any.whl.metadata (6.3 kB)\n",
      "Requirement already satisfied: astropy>=6.1 in /Users/alysaderks/.virtualenvs/repos/ADASS_tutorial_25/lib/python3.11/site-packages (from solar-wavelength-calibration) (7.1.0)\n",
      "Requirement already satisfied: numpy>=1.26.4 in /Users/alysaderks/.virtualenvs/repos/ADASS_tutorial_25/lib/python3.11/site-packages (from solar-wavelength-calibration) (2.3.1)\n",
      "Requirement already satisfied: pooch>=1.8.0 in /Users/alysaderks/.virtualenvs/repos/ADASS_tutorial_25/lib/python3.11/site-packages (from solar-wavelength-calibration) (1.8.2)\n",
      "Requirement already satisfied: pydantic>=2.0 in /Users/alysaderks/.virtualenvs/repos/ADASS_tutorial_25/lib/python3.11/site-packages (from solar-wavelength-calibration) (2.11.7)\n",
      "Requirement already satisfied: scipy>=1.13.0 in /Users/alysaderks/.virtualenvs/repos/ADASS_tutorial_25/lib/python3.11/site-packages (from solar-wavelength-calibration) (1.16.0)\n",
      "Requirement already satisfied: lmfit>=1.3.0 in /Users/alysaderks/.virtualenvs/repos/ADASS_tutorial_25/lib/python3.11/site-packages (from solar-wavelength-calibration) (1.3.3)\n",
      "Requirement already satisfied: pyerfa>=2.0.1.1 in /Users/alysaderks/.virtualenvs/repos/ADASS_tutorial_25/lib/python3.11/site-packages (from astropy>=6.1->solar-wavelength-calibration) (2.0.1.5)\n",
      "Requirement already satisfied: astropy-iers-data>=0.2025.4.28.0.37.27 in /Users/alysaderks/.virtualenvs/repos/ADASS_tutorial_25/lib/python3.11/site-packages (from astropy>=6.1->solar-wavelength-calibration) (0.2025.7.14.0.40.29)\n",
      "Requirement already satisfied: PyYAML>=6.0.0 in /Users/alysaderks/.virtualenvs/repos/ADASS_tutorial_25/lib/python3.11/site-packages (from astropy>=6.1->solar-wavelength-calibration) (6.0.2)\n",
      "Requirement already satisfied: packaging>=22.0.0 in /Users/alysaderks/.virtualenvs/repos/ADASS_tutorial_25/lib/python3.11/site-packages (from astropy>=6.1->solar-wavelength-calibration) (25.0)\n",
      "Requirement already satisfied: asteval>=1.0 in /Users/alysaderks/.virtualenvs/repos/ADASS_tutorial_25/lib/python3.11/site-packages (from lmfit>=1.3.0->solar-wavelength-calibration) (1.0.6)\n",
      "Requirement already satisfied: uncertainties>=3.2.2 in /Users/alysaderks/.virtualenvs/repos/ADASS_tutorial_25/lib/python3.11/site-packages (from lmfit>=1.3.0->solar-wavelength-calibration) (3.2.3)\n",
      "Requirement already satisfied: dill>=0.3.4 in /Users/alysaderks/.virtualenvs/repos/ADASS_tutorial_25/lib/python3.11/site-packages (from lmfit>=1.3.0->solar-wavelength-calibration) (0.4.0)\n",
      "Requirement already satisfied: platformdirs>=2.5.0 in /Users/alysaderks/.virtualenvs/repos/ADASS_tutorial_25/lib/python3.11/site-packages (from pooch>=1.8.0->solar-wavelength-calibration) (4.3.8)\n",
      "Requirement already satisfied: requests>=2.19.0 in /Users/alysaderks/.virtualenvs/repos/ADASS_tutorial_25/lib/python3.11/site-packages (from pooch>=1.8.0->solar-wavelength-calibration) (2.32.4)\n",
      "Requirement already satisfied: annotated-types>=0.6.0 in /Users/alysaderks/.virtualenvs/repos/ADASS_tutorial_25/lib/python3.11/site-packages (from pydantic>=2.0->solar-wavelength-calibration) (0.7.0)\n",
      "Requirement already satisfied: pydantic-core==2.33.2 in /Users/alysaderks/.virtualenvs/repos/ADASS_tutorial_25/lib/python3.11/site-packages (from pydantic>=2.0->solar-wavelength-calibration) (2.33.2)\n",
      "Requirement already satisfied: typing-extensions>=4.12.2 in /Users/alysaderks/.virtualenvs/repos/ADASS_tutorial_25/lib/python3.11/site-packages (from pydantic>=2.0->solar-wavelength-calibration) (4.14.1)\n",
      "Requirement already satisfied: typing-inspection>=0.4.0 in /Users/alysaderks/.virtualenvs/repos/ADASS_tutorial_25/lib/python3.11/site-packages (from pydantic>=2.0->solar-wavelength-calibration) (0.4.1)\n",
      "Requirement already satisfied: charset_normalizer<4,>=2 in /Users/alysaderks/.virtualenvs/repos/ADASS_tutorial_25/lib/python3.11/site-packages (from requests>=2.19.0->pooch>=1.8.0->solar-wavelength-calibration) (3.4.2)\n",
      "Requirement already satisfied: idna<4,>=2.5 in /Users/alysaderks/.virtualenvs/repos/ADASS_tutorial_25/lib/python3.11/site-packages (from requests>=2.19.0->pooch>=1.8.0->solar-wavelength-calibration) (3.10)\n",
      "Requirement already satisfied: urllib3<3,>=1.21.1 in /Users/alysaderks/.virtualenvs/repos/ADASS_tutorial_25/lib/python3.11/site-packages (from requests>=2.19.0->pooch>=1.8.0->solar-wavelength-calibration) (2.5.0)\n",
      "Requirement already satisfied: certifi>=2017.4.17 in /Library/Frameworks/Python.framework/Versions/3.11/lib/python3.11/site-packages (from requests>=2.19.0->pooch>=1.8.0->solar-wavelength-calibration) (2024.7.4)\n",
      "Using cached solar_wavelength_calibration-1.0-py3-none-any.whl (38 kB)\n",
      "Installing collected packages: solar-wavelength-calibration\n",
      "Successfully installed solar-wavelength-calibration-1.0\n",
      "Note: you may need to restart the kernel to use updated packages.\n"
     ]
    }
   ],
   "source": [
    "pip install solar-wavelength-calibration"
   ]
  },
  {
   "cell_type": "code",
   "execution_count": 10,
   "id": "d5067d21-a853-4b36-9c90-e1d3673ffe4e",
   "metadata": {},
   "outputs": [],
   "source": [
    "from solar_wavelength_calibration import WavelengthCalibrationFitter, WavelengthCalibrationParameters\n",
    "import astropy.units as u\n",
    "import numpy as np\n",
    "import matplotlib.pyplot as plt\n",
    "from astropy.wcs import WCS"
   ]
  },
  {
   "cell_type": "markdown",
   "id": "44bfec9f-6a50-43a6-8cf9-ab60ef16afd4",
   "metadata": {},
   "source": [
    "## Basic Usage"
   ]
  },
  {
   "cell_type": "markdown",
   "id": "ba4cbd3d-5ba9-4d7a-93e3-ba0dc3eb8cbb",
   "metadata": {},
   "source": [
    "Define the spectrum to be fit and compute the expected wavelength vector based on header information:"
   ]
  },
  {
   "cell_type": "code",
   "execution_count": 3,
   "id": "cd16e897-a9a0-4e28-8fba-b65ec53cea7a",
   "metadata": {},
   "outputs": [],
   "source": [
    "input_spectrum = np.arange(0.8, 1.0, 0.01)\n",
    "\n",
    "input_wavelength_vector = np.arange(1067.5, 1076.3, 0.01) * u.nm"
   ]
  },
  {
   "cell_type": "markdown",
   "id": "84cccf7c-69ed-47e5-9d39-f7d3a4adedc7",
   "metadata": {},
   "source": [
    "Set up the model parameters using values specific to your instrument:"
   ]
  },
  {
   "cell_type": "code",
   "execution_count": 4,
   "id": "e0840716-377d-4837-8456-011f312459a0",
   "metadata": {},
   "outputs": [],
   "source": [
    "input_parameters = WavelengthCalibrationParameters(\n",
    "        crval=350.159 * u.nm,\n",
    "        dispersion=4.042 * u.nm/u.pix,\n",
    "        incident_light_angle=57.006 * u.deg,\n",
    "        resolving_power=42500,\n",
    "        opacity_factor=5.0,\n",
    "        straylight_fraction=0.2,\n",
    "        grating_constant=31600.0 * 1/u.m,\n",
    "        doppler_velocity=-0.428 * u.km/u.s,\n",
    "        order=52,\n",
    "    )\n"
   ]
  },
  {
   "cell_type": "markdown",
   "id": "d8d639dc-2b1e-4ea4-8aa0-d167955c70ad",
   "metadata": {},
   "source": [
    "Initialize the wavelength calibration fitter:"
   ]
  },
  {
   "cell_type": "code",
   "execution_count": 5,
   "id": "192ddfbf-99c1-462c-8d38-02540515f087",
   "metadata": {},
   "outputs": [],
   "source": [
    "fitter = WavelengthCalibrationFitter(\n",
    "        input_parameters=input_parameters,\n",
    "    )"
   ]
  },
  {
   "cell_type": "markdown",
   "id": "b21c2689-2e47-468b-b61b-b64e22a58c1b",
   "metadata": {},
   "source": [
    "Perform the wavelength calibration fit:"
   ]
  },
  {
   "cell_type": "code",
   "execution_count": 6,
   "id": "bf6fec37-ce49-4b50-b545-d78740d89bb3",
   "metadata": {},
   "outputs": [],
   "source": [
    "fit_result = fitter(\n",
    "        input_wavelength_vector=input_wavelength_vector,\n",
    "        input_spectrum=input_spectrum,\n",
    "    )\n"
   ]
  },
  {
   "cell_type": "markdown",
   "id": "90e28cd2-47c3-4521-b2f2-3813eb98d0c7",
   "metadata": {},
   "source": [
    "Check out the results!"
   ]
  },
  {
   "cell_type": "code",
   "execution_count": 12,
   "id": "98835c0b-247d-47ed-9305-719937abff30",
   "metadata": {},
   "outputs": [
    {
     "data": {
      "text/plain": [
       "{'CTYPE1': 'AWAV-GRA',\n",
       " 'CUNIT1': 'nm',\n",
       " 'CRPIX1': 11,\n",
       " 'CRVAL1': 350.1590000000001,\n",
       " 'CDELT1': 4.042000000000001,\n",
       " 'PV1_0': 31600.0,\n",
       " 'PV1_1': 52,\n",
       " 'PV1_2': 57.006}"
      ]
     },
     "execution_count": 12,
     "metadata": {},
     "output_type": "execute_result"
    }
   ],
   "source": [
    "corrected_header = fit_result.wavelength_parameters.to_header(\n",
    "                    axis_num=1)\n",
    "#corrected_header = fit_result.wavelength_parameters.to_header(axis_num=1, add_alternate_keys=True)\n",
    "\n",
    "corrected_header"
   ]
  },
  {
   "cell_type": "code",
   "execution_count": 13,
   "id": "0e51686a-710c-4c57-9e02-73f9e3ecd426",
   "metadata": {},
   "outputs": [
    {
     "ename": "ValueError",
     "evalue": "x and y must have same first dimension, but have shapes (880,) and (20,)",
     "output_type": "error",
     "traceback": [
      "\u001b[31m---------------------------------------------------------------------------\u001b[39m",
      "\u001b[31mValueError\u001b[39m                                Traceback (most recent call last)",
      "\u001b[36mCell\u001b[39m\u001b[36m \u001b[39m\u001b[32mIn[13]\u001b[39m\u001b[32m, line 12\u001b[39m\n\u001b[32m      9\u001b[39m aligned_solar_transmission = fit_result.minimizer_result.residual + input_spectrum\n\u001b[32m     11\u001b[39m fig, ax = plt.subplots(\u001b[32m3\u001b[39m, \u001b[32m1\u001b[39m, figsize=(\u001b[32m7\u001b[39m, \u001b[32m6\u001b[39m), height_ratios=[\u001b[32m1\u001b[39m, \u001b[32m0.4\u001b[39m, \u001b[32m0.4\u001b[39m], sharex=\u001b[38;5;28;01mTrue\u001b[39;00m)\n\u001b[32m---> \u001b[39m\u001b[32m12\u001b[39m \u001b[43max\u001b[49m\u001b[43m[\u001b[49m\u001b[32;43m0\u001b[39;49m\u001b[43m]\u001b[49m\u001b[43m.\u001b[49m\u001b[43mplot\u001b[49m\u001b[43m(\u001b[49m\u001b[43minput_wavelength_vector\u001b[49m\u001b[43m,\u001b[49m\u001b[43m \u001b[49m\u001b[43minput_spectrum\u001b[49m\u001b[43m,\u001b[49m\u001b[43m \u001b[49m\u001b[43mlabel\u001b[49m\u001b[43m=\u001b[49m\u001b[33;43m\"\u001b[39;49m\u001b[33;43mInput Spectrum\u001b[39;49m\u001b[33;43m\"\u001b[39;49m\u001b[43m)\u001b[49m\n\u001b[32m     13\u001b[39m ax[\u001b[32m0\u001b[39m].plot(\n\u001b[32m     14\u001b[39m     fitted_wave,\n\u001b[32m     15\u001b[39m     aligned_solar_transmission,\n\u001b[32m   (...)\u001b[39m\u001b[32m     19\u001b[39m     alpha=\u001b[32m0.3\u001b[39m,\n\u001b[32m     20\u001b[39m )\n\u001b[32m     21\u001b[39m ax[\u001b[32m0\u001b[39m].plot(fitted_wave, input_spectrum, label=\u001b[33m\"\u001b[39m\u001b[33mCorrected Spectrum\u001b[39m\u001b[33m\"\u001b[39m)\n",
      "\u001b[36mFile \u001b[39m\u001b[32m~/.virtualenvs/repos/ADASS_tutorial_25/lib/python3.11/site-packages/matplotlib/axes/_axes.py:1777\u001b[39m, in \u001b[36mAxes.plot\u001b[39m\u001b[34m(self, scalex, scaley, data, *args, **kwargs)\u001b[39m\n\u001b[32m   1534\u001b[39m \u001b[38;5;250m\u001b[39m\u001b[33;03m\"\"\"\u001b[39;00m\n\u001b[32m   1535\u001b[39m \u001b[33;03mPlot y versus x as lines and/or markers.\u001b[39;00m\n\u001b[32m   1536\u001b[39m \n\u001b[32m   (...)\u001b[39m\u001b[32m   1774\u001b[39m \u001b[33;03m(``'green'``) or hex strings (``'#008000'``).\u001b[39;00m\n\u001b[32m   1775\u001b[39m \u001b[33;03m\"\"\"\u001b[39;00m\n\u001b[32m   1776\u001b[39m kwargs = cbook.normalize_kwargs(kwargs, mlines.Line2D)\n\u001b[32m-> \u001b[39m\u001b[32m1777\u001b[39m lines = [*\u001b[38;5;28mself\u001b[39m._get_lines(\u001b[38;5;28mself\u001b[39m, *args, data=data, **kwargs)]\n\u001b[32m   1778\u001b[39m \u001b[38;5;28;01mfor\u001b[39;00m line \u001b[38;5;129;01min\u001b[39;00m lines:\n\u001b[32m   1779\u001b[39m     \u001b[38;5;28mself\u001b[39m.add_line(line)\n",
      "\u001b[36mFile \u001b[39m\u001b[32m~/.virtualenvs/repos/ADASS_tutorial_25/lib/python3.11/site-packages/matplotlib/axes/_base.py:297\u001b[39m, in \u001b[36m_process_plot_var_args.__call__\u001b[39m\u001b[34m(self, axes, data, return_kwargs, *args, **kwargs)\u001b[39m\n\u001b[32m    295\u001b[39m     this += args[\u001b[32m0\u001b[39m],\n\u001b[32m    296\u001b[39m     args = args[\u001b[32m1\u001b[39m:]\n\u001b[32m--> \u001b[39m\u001b[32m297\u001b[39m \u001b[38;5;28;01myield from\u001b[39;00m \u001b[38;5;28;43mself\u001b[39;49m\u001b[43m.\u001b[49m\u001b[43m_plot_args\u001b[49m\u001b[43m(\u001b[49m\n\u001b[32m    298\u001b[39m \u001b[43m    \u001b[49m\u001b[43maxes\u001b[49m\u001b[43m,\u001b[49m\u001b[43m \u001b[49m\u001b[43mthis\u001b[49m\u001b[43m,\u001b[49m\u001b[43m \u001b[49m\u001b[43mkwargs\u001b[49m\u001b[43m,\u001b[49m\u001b[43m \u001b[49m\u001b[43mambiguous_fmt_datakey\u001b[49m\u001b[43m=\u001b[49m\u001b[43mambiguous_fmt_datakey\u001b[49m\u001b[43m,\u001b[49m\n\u001b[32m    299\u001b[39m \u001b[43m    \u001b[49m\u001b[43mreturn_kwargs\u001b[49m\u001b[43m=\u001b[49m\u001b[43mreturn_kwargs\u001b[49m\n\u001b[32m    300\u001b[39m \u001b[43m\u001b[49m\u001b[43m)\u001b[49m\n",
      "\u001b[36mFile \u001b[39m\u001b[32m~/.virtualenvs/repos/ADASS_tutorial_25/lib/python3.11/site-packages/matplotlib/axes/_base.py:494\u001b[39m, in \u001b[36m_process_plot_var_args._plot_args\u001b[39m\u001b[34m(self, axes, tup, kwargs, return_kwargs, ambiguous_fmt_datakey)\u001b[39m\n\u001b[32m    491\u001b[39m     axes.yaxis.update_units(y)\n\u001b[32m    493\u001b[39m \u001b[38;5;28;01mif\u001b[39;00m x.shape[\u001b[32m0\u001b[39m] != y.shape[\u001b[32m0\u001b[39m]:\n\u001b[32m--> \u001b[39m\u001b[32m494\u001b[39m     \u001b[38;5;28;01mraise\u001b[39;00m \u001b[38;5;167;01mValueError\u001b[39;00m(\u001b[33mf\u001b[39m\u001b[33m\"\u001b[39m\u001b[33mx and y must have same first dimension, but \u001b[39m\u001b[33m\"\u001b[39m\n\u001b[32m    495\u001b[39m                      \u001b[33mf\u001b[39m\u001b[33m\"\u001b[39m\u001b[33mhave shapes \u001b[39m\u001b[38;5;132;01m{\u001b[39;00mx.shape\u001b[38;5;132;01m}\u001b[39;00m\u001b[33m and \u001b[39m\u001b[38;5;132;01m{\u001b[39;00my.shape\u001b[38;5;132;01m}\u001b[39;00m\u001b[33m\"\u001b[39m)\n\u001b[32m    496\u001b[39m \u001b[38;5;28;01mif\u001b[39;00m x.ndim > \u001b[32m2\u001b[39m \u001b[38;5;129;01mor\u001b[39;00m y.ndim > \u001b[32m2\u001b[39m:\n\u001b[32m    497\u001b[39m     \u001b[38;5;28;01mraise\u001b[39;00m \u001b[38;5;167;01mValueError\u001b[39;00m(\u001b[33mf\u001b[39m\u001b[33m\"\u001b[39m\u001b[33mx and y can be no greater than 2D, but have \u001b[39m\u001b[33m\"\u001b[39m\n\u001b[32m    498\u001b[39m                      \u001b[33mf\u001b[39m\u001b[33m\"\u001b[39m\u001b[33mshapes \u001b[39m\u001b[38;5;132;01m{\u001b[39;00mx.shape\u001b[38;5;132;01m}\u001b[39;00m\u001b[33m and \u001b[39m\u001b[38;5;132;01m{\u001b[39;00my.shape\u001b[38;5;132;01m}\u001b[39;00m\u001b[33m\"\u001b[39m)\n",
      "\u001b[31mValueError\u001b[39m: x and y must have same first dimension, but have shapes (880,) and (20,)"
     ]
    },
    {
     "data": {
      "image/png": "[encoded data removed]",
      "text/plain": [
       "<Figure size 700x600 with 3 Axes>"
      ]
     },
     "metadata": {},
     "output_type": "display_data"
    }
   ],
   "source": [
    "corrected_wcs = WCS(corrected_header)\n",
    "\n",
    "number_of_wave_pix = np.size(input_spectrum)\n",
    "\n",
    "fitted_wave = (\n",
    "    corrected_wcs.spectral.pixel_to_world(np.arange(number_of_wave_pix))\n",
    ").to_value(u.nm)\n",
    "\n",
    "aligned_solar_transmission = fit_result.minimizer_result.residual + input_spectrum\n",
    "\n",
    "fig, ax = plt.subplots(3, 1, figsize=(7, 6), height_ratios=[1, 0.4, 0.4], sharex=True)\n",
    "ax[0].plot(input_wavelength_vector, input_spectrum, label=\"Input Spectrum\")\n",
    "ax[0].plot(\n",
    "    fitted_wave,\n",
    "    aligned_solar_transmission,\n",
    "    label=\"Doppler-Shifted Solar Atlas\",\n",
    "    linestyle=\"-\",\n",
    "    color=\"k\",\n",
    "    alpha=0.3,\n",
    ")\n",
    "ax[0].plot(fitted_wave, input_spectrum, label=\"Corrected Spectrum\")\n",
    "ax[0].legend()\n",
    "ax[0].set_ylabel(\"Intensity\")\n",
    "residuals = fit_result.minimizer_result.residual\n",
    "ax[1].plot(fitted_wave, residuals, label=\"Residuals\")\n",
    "ax[1].legend()\n",
    "#ax[2].plot(input_wavelength_vector, weights, label=\"Weights\")\n",
    "#ax[2].set_xlabel(\"Wavelength (nm)\")\n",
    "#ax[2].legend()\n",
    "fig.suptitle(\"Corrected Spectrum vs Input Spectrum\")\n",
    "fig.tight_layout()\n",
    "plt.show()"
   ]
  },
  {
   "cell_type": "markdown",
   "id": "f2c78ba8-5cfa-4382-ac01-6f07ba12e7a5",
   "metadata": {},
   "source": [
    "## Advanced Usage"
   ]
  },
  {
   "cell_type": "markdown",
   "id": "0afd36ea-1bf7-4acf-b616-7e1e9c275d40",
   "metadata": {},
   "source": [
    "Using your own reference atlas"
   ]
  },
  {
   "cell_type": "code",
   "execution_count": null,
   "id": "2d124e27-9aad-4449-a0d1-51015d4e8b45",
   "metadata": {},
   "outputs": [],
   "source": []
  },
  {
   "cell_type": "markdown",
   "id": "d81b0c38-cd74-43cf-b2ab-eef5be11a09a",
   "metadata": {},
   "source": [
    "Smart CRVAL initial parameter estimation"
   ]
  },
  {
   "cell_type": "code",
   "execution_count": null,
   "id": "8e38b7d7-a9d9-4491-a2d5-c67aec2398a0",
   "metadata": {},
   "outputs": [],
   "source": []
  },
  {
   "cell_type": "markdown",
   "id": "7b3b369e-e808-4ceb-80a3-19d19ff82150",
   "metadata": {},
   "source": [
    "Setting bounds for the model"
   ]
  },
  {
   "cell_type": "code",
   "execution_count": null,
   "id": "3fd6e72e-de0f-4975-bb82-a97a575d99ee",
   "metadata": {},
   "outputs": [],
   "source": []
  },
  {
   "cell_type": "markdown",
   "id": "1cf1d474-7535-4dfd-a8d8-1f3733059252",
   "metadata": {},
   "source": [
    "Setting weights for the model"
   ]
  },
  {
   "cell_type": "code",
   "execution_count": null,
   "id": "2794913b-6367-472e-aa29-bd5f43f17ab2",
   "metadata": {},
   "outputs": [],
   "source": []
  },
  {
   "cell_type": "markdown",
   "id": "a927b2eb-1f11-43bf-8246-7e0b105eeae2",
   "metadata": {},
   "source": [
    "Changing the optimization method"
   ]
  },
  {
   "cell_type": "code",
   "execution_count": null,
   "id": "57aafda9-6a81-4c38-9bb1-4fa1ca5433f1",
   "metadata": {},
   "outputs": [],
   "source": []
  },
  {
   "cell_type": "markdown",
   "id": "3bb8156b-dcea-4481-b4cc-02f55cd1cb12",
   "metadata": {},
   "source": [
    "Freezing parameters"
   ]
  },
  {
   "cell_type": "code",
   "execution_count": null,
   "id": "bd85968f-fa6b-4782-81b6-698cfb294ebc",
   "metadata": {},
   "outputs": [],
   "source": []
  }
 ],
 "metadata": {
  "kernelspec": {
   "display_name": "Python 3 (ipykernel)",
   "language": "python",
   "name": "python3"
  },
  "language_info": {
   "codemirror_mode": {
    "name": "ipython",
    "version": 3
   },
   "file_extension": ".py",
   "mimetype": "text/x-python",
   "name": "python",
   "nbconvert_exporter": "python",
   "pygments_lexer": "ipython3",
   "version": "3.11.9"
  }
 },
 "nbformat": 4,
 "nbformat_minor": 5
}
